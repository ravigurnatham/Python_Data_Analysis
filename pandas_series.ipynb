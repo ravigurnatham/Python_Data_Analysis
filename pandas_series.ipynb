{
 "cells": [
  {
   "cell_type": "code",
   "execution_count": 5,
   "metadata": {},
   "outputs": [],
   "source": [
    "import pandas as pd\n",
    "import numpy as np"
   ]
  },
  {
   "cell_type": "markdown",
   "metadata": {},
   "source": [
    "# creating pandas series from a list"
   ]
  },
  {
   "cell_type": "code",
   "execution_count": 140,
   "metadata": {},
   "outputs": [
    {
     "name": "stdout",
     "output_type": "stream",
     "text": [
      "0             USA\n",
      "1              UK\n",
      "2      New Zeland\n",
      "3       Australia\n",
      "4    South Africa\n",
      "5         Ireland\n",
      "6        Srilanka\n",
      "7           India\n",
      "dtype: object\n"
     ]
    }
   ],
   "source": [
    "countries_list=[\"USA\",\"UK\",\"New Zeland\", \"Australia\",\"South Africa\",\"Ireland\",\"Srilanka\",\"India\"]\n",
    "\n",
    "countries=pd.Series(data=countries_list)\n",
    "print(countries)"
   ]
  },
  {
   "cell_type": "markdown",
   "metadata": {},
   "source": [
    "- In the above output, right side values our data and left side data are index meaning they are way a to refrecnce our data \n",
    "\n",
    "- dtype indicates what is the type of our data and in here is is object (strings are considered as objects)"
   ]
  },
  {
   "cell_type": "code",
   "execution_count": 4,
   "metadata": {},
   "outputs": [
    {
     "name": "stdout",
     "output_type": "stream",
     "text": [
      "0    0\n",
      "1    1\n",
      "2    2\n",
      "3    3\n",
      "4    4\n",
      "5    5\n",
      "6    6\n",
      "7    7\n",
      "8    8\n",
      "9    9\n",
      "dtype: int64\n"
     ]
    }
   ],
   "source": [
    "num=range(10)\n",
    "data=pd.Series(data=num)\n",
    "print(data)"
   ]
  },
  {
   "cell_type": "markdown",
   "metadata": {},
   "source": [
    "- Everything remains same but if you see the datatype now chages to integer64 meaning that each number is stored with 64 bits of memory"
   ]
  },
  {
   "cell_type": "code",
   "execution_count": 9,
   "metadata": {},
   "outputs": [
    {
     "name": "stdout",
     "output_type": "stream",
     "text": [
      "0     True\n",
      "1    False\n",
      "2     True\n",
      "3    False\n",
      "4     True\n",
      "5    False\n",
      "6     True\n",
      "7    False\n",
      "8     True\n",
      "9    False\n",
      "dtype: bool\n"
     ]
    }
   ],
   "source": [
    "bool_data = np.random.rand(10) > .5\n",
    "data=pd.Series(data=bool_data)\n",
    "print(data)"
   ]
  },
  {
   "cell_type": "markdown",
   "metadata": {},
   "source": [
    "- Everything remains same but if you see the datatype now chages to boolean "
   ]
  },
  {
   "cell_type": "code",
   "execution_count": 10,
   "metadata": {},
   "outputs": [
    {
     "name": "stdout",
     "output_type": "stream",
     "text": [
      "0    0.943967\n",
      "1    0.096766\n",
      "2    0.728376\n",
      "3    0.414139\n",
      "4    0.085329\n",
      "5    0.349371\n",
      "6    0.496197\n",
      "7    0.818331\n",
      "8    0.061047\n",
      "9    0.821594\n",
      "dtype: float64\n"
     ]
    }
   ],
   "source": [
    "float_data=np.random.rand(10)\n",
    "float_data=pd.Series(data=float_data)\n",
    "print(float_data)"
   ]
  },
  {
   "cell_type": "markdown",
   "metadata": {},
   "source": [
    "- Everything remains same but if you see the datatype now chages to float64 bits "
   ]
  },
  {
   "cell_type": "markdown",
   "metadata": {},
   "source": [
    "- Note: We can also make the index to contains strings as well"
   ]
  },
  {
   "cell_type": "code",
   "execution_count": 13,
   "metadata": {},
   "outputs": [
    {
     "name": "stdout",
     "output_type": "stream",
     "text": [
      "USA             0.135137\n",
      "UK              0.739923\n",
      "New Zeland      0.195243\n",
      "Australia       0.463939\n",
      "South Africa    0.604858\n",
      " Ireland        0.892661\n",
      "Srilanka        0.545492\n",
      "India           0.358394\n",
      "dtype: float64\n"
     ]
    }
   ],
   "source": [
    "float_data=np.random.rand(8)\n",
    "float_data=pd.Series(data=float_data, index=countries_list)\n",
    "print(float_data)"
   ]
  },
  {
   "cell_type": "code",
   "execution_count": 15,
   "metadata": {},
   "outputs": [
    {
     "name": "stdout",
     "output_type": "stream",
     "text": [
      "1    apple\n",
      "2     ball\n",
      "dtype: object\n"
     ]
    }
   ],
   "source": [
    "data={1: 'apple', 2: 'ball'}\n",
    "fruits=pd.Series(data)\n",
    "print(fruits)"
   ]
  },
  {
   "cell_type": "markdown",
   "metadata": {},
   "source": [
    "- If we use dictionary for our data then keys will be acts as index and values will be act as our data."
   ]
  },
  {
   "cell_type": "markdown",
   "metadata": {},
   "source": [
    "# Series attributes "
   ]
  },
  {
   "cell_type": "markdown",
   "metadata": {},
   "source": [
    "- Series attributes ar nothing but the proeprties about our data such as what kind of data are we storing and length of our data and maximum/minimum values and etc.\n"
   ]
  },
  {
   "cell_type": "markdown",
   "metadata": {},
   "source": [
    "# *data type*"
   ]
  },
  {
   "cell_type": "code",
   "execution_count": 19,
   "metadata": {},
   "outputs": [
    {
     "data": {
      "text/plain": [
       "dtype('O')"
      ]
     },
     "execution_count": 19,
     "metadata": {},
     "output_type": "execute_result"
    }
   ],
   "source": [
    "fruits.dtype"
   ]
  },
  {
   "cell_type": "markdown",
   "metadata": {},
   "source": [
    "- dtype('O') meaning that its storing string values (Object)"
   ]
  },
  {
   "cell_type": "code",
   "execution_count": 21,
   "metadata": {},
   "outputs": [
    {
     "data": {
      "text/plain": [
       "dtype('float64')"
      ]
     },
     "execution_count": 21,
     "metadata": {},
     "output_type": "execute_result"
    }
   ],
   "source": [
    "float_data.dtype"
   ]
  },
  {
   "cell_type": "markdown",
   "metadata": {},
   "source": [
    "- The above data is float data"
   ]
  },
  {
   "cell_type": "markdown",
   "metadata": {},
   "source": [
    "# *Get the data as list*"
   ]
  },
  {
   "cell_type": "code",
   "execution_count": 23,
   "metadata": {},
   "outputs": [
    {
     "data": {
      "text/plain": [
       "array(['apple', 'ball'], dtype=object)"
      ]
     },
     "execution_count": 23,
     "metadata": {},
     "output_type": "execute_result"
    }
   ],
   "source": [
    "fruits.values"
   ]
  },
  {
   "cell_type": "code",
   "execution_count": 28,
   "metadata": {},
   "outputs": [
    {
     "data": {
      "text/plain": [
       "array([0.13513674, 0.73992296, 0.19524323, 0.46393851, 0.60485807,\n",
       "       0.89266077, 0.54549185, 0.35839399])"
      ]
     },
     "execution_count": 28,
     "metadata": {},
     "output_type": "execute_result"
    }
   ],
   "source": [
    "float_data.values"
   ]
  },
  {
   "cell_type": "code",
   "execution_count": 27,
   "metadata": {},
   "outputs": [
    {
     "data": {
      "text/plain": [
       "numpy.ndarray"
      ]
     },
     "execution_count": 27,
     "metadata": {},
     "output_type": "execute_result"
    }
   ],
   "source": [
    "type(float_data.values)"
   ]
  },
  {
   "cell_type": "markdown",
   "metadata": {},
   "source": [
    "- If we observe here, by using **values** proeprty we are getting an numpy array from the data. "
   ]
  },
  {
   "cell_type": "markdown",
   "metadata": {},
   "source": [
    "# *Get the index of the data*\n",
    "\n",
    "- By using **index** property we can retrieve the index values from our data. If we didn't define custom index then we will get the numeric indices starting from 0 to length of our data"
   ]
  },
  {
   "cell_type": "code",
   "execution_count": 31,
   "metadata": {},
   "outputs": [
    {
     "data": {
      "text/plain": [
       "Index(['USA', 'UK', 'New Zeland', 'Australia', 'South Africa', ' Ireland',\n",
       "       'Srilanka', 'India'],\n",
       "      dtype='object')"
      ]
     },
     "execution_count": 31,
     "metadata": {},
     "output_type": "execute_result"
    }
   ],
   "source": [
    "float_data.index"
   ]
  },
  {
   "cell_type": "code",
   "execution_count": 34,
   "metadata": {},
   "outputs": [
    {
     "data": {
      "text/plain": [
       "RangeIndex(start=0, stop=8, step=1)"
      ]
     },
     "execution_count": 34,
     "metadata": {},
     "output_type": "execute_result"
    }
   ],
   "source": [
    "countries.index"
   ]
  },
  {
   "cell_type": "markdown",
   "metadata": {},
   "source": [
    "- in the above Pandas series we didn't specify the index so we are getting numeric index by default."
   ]
  },
  {
   "cell_type": "markdown",
   "metadata": {},
   "source": [
    "# *Get the length of the data*"
   ]
  },
  {
   "cell_type": "code",
   "execution_count": 103,
   "metadata": {},
   "outputs": [
    {
     "data": {
      "text/plain": [
       "8"
      ]
     },
     "execution_count": 103,
     "metadata": {},
     "output_type": "execute_result"
    }
   ],
   "source": [
    "countries.size"
   ]
  },
  {
   "cell_type": "markdown",
   "metadata": {},
   "source": [
    "# *Check whether all elements are unique or not.*"
   ]
  },
  {
   "cell_type": "code",
   "execution_count": 104,
   "metadata": {},
   "outputs": [
    {
     "data": {
      "text/plain": [
       "True"
      ]
     },
     "execution_count": 104,
     "metadata": {},
     "output_type": "execute_result"
    }
   ],
   "source": [
    "countries.is_unique"
   ]
  },
  {
   "cell_type": "markdown",
   "metadata": {},
   "source": [
    "# *Check dimension of the data.*"
   ]
  },
  {
   "cell_type": "code",
   "execution_count": 131,
   "metadata": {},
   "outputs": [
    {
     "data": {
      "text/plain": [
       "1"
      ]
     },
     "execution_count": 131,
     "metadata": {},
     "output_type": "execute_result"
    }
   ],
   "source": [
    "countries.ndim"
   ]
  },
  {
   "cell_type": "markdown",
   "metadata": {},
   "source": [
    "# *Check shape of the data.*"
   ]
  },
  {
   "cell_type": "code",
   "execution_count": 132,
   "metadata": {},
   "outputs": [
    {
     "data": {
      "text/plain": [
       "(8,)"
      ]
     },
     "execution_count": 132,
     "metadata": {},
     "output_type": "execute_result"
    }
   ],
   "source": [
    "countries.shape"
   ]
  },
  {
   "cell_type": "markdown",
   "metadata": {},
   "source": [
    "# Series methods"
   ]
  },
  {
   "cell_type": "markdown",
   "metadata": {},
   "source": [
    "- Similar to the attributes we have methods to perform on data such as fining sum or minimum or maximum among data and many other methods based on the requirement."
   ]
  },
  {
   "cell_type": "markdown",
   "metadata": {},
   "source": [
    "# *Finding sum of the data*"
   ]
  },
  {
   "cell_type": "code",
   "execution_count": 54,
   "metadata": {},
   "outputs": [
    {
     "name": "stdout",
     "output_type": "stream",
     "text": [
      "USA             0.135137\n",
      "UK              0.739923\n",
      "New Zeland      0.195243\n",
      "Australia       0.463939\n",
      "South Africa    0.604858\n",
      " Ireland        0.892661\n",
      "Srilanka        0.545492\n",
      "India           0.358394\n",
      "dtype: float64\n",
      "**********\n",
      "sum of all elements are  3.935646118749841\n"
     ]
    }
   ],
   "source": [
    "print(float_data)\n",
    "print(\"**********\")\n",
    "print(\"sum of all elements are \",float_data.sum())"
   ]
  },
  {
   "cell_type": "markdown",
   "metadata": {},
   "source": [
    "# *Finding product of elements*"
   ]
  },
  {
   "cell_type": "code",
   "execution_count": 56,
   "metadata": {},
   "outputs": [
    {
     "name": "stdout",
     "output_type": "stream",
     "text": [
      "0.0009560602264487872\n"
     ]
    }
   ],
   "source": [
    "print(float_data.product())"
   ]
  },
  {
   "cell_type": "markdown",
   "metadata": {},
   "source": [
    "# *Finding max of elements*"
   ]
  },
  {
   "cell_type": "code",
   "execution_count": 79,
   "metadata": {},
   "outputs": [
    {
     "data": {
      "text/plain": [
       "0.8926607670763301"
      ]
     },
     "execution_count": 79,
     "metadata": {},
     "output_type": "execute_result"
    }
   ],
   "source": [
    "float_data.max()"
   ]
  },
  {
   "cell_type": "markdown",
   "metadata": {},
   "source": [
    "# *Finding product of elements*"
   ]
  },
  {
   "cell_type": "code",
   "execution_count": 105,
   "metadata": {},
   "outputs": [
    {
     "data": {
      "text/plain": [
       "0.13513673665394288"
      ]
     },
     "execution_count": 105,
     "metadata": {},
     "output_type": "execute_result"
    }
   ],
   "source": [
    "float_data.min()"
   ]
  },
  {
   "cell_type": "markdown",
   "metadata": {},
   "source": [
    "# Attributes and methods combination"
   ]
  },
  {
   "cell_type": "code",
   "execution_count": 106,
   "metadata": {},
   "outputs": [
    {
     "data": {
      "text/plain": [
       "<pandas.core.strings.StringMethods at 0x7f69cd3c7240>"
      ]
     },
     "execution_count": 106,
     "metadata": {},
     "output_type": "execute_result"
    }
   ],
   "source": [
    "countries.str"
   ]
  },
  {
   "cell_type": "markdown",
   "metadata": {},
   "source": [
    "- The above preoperty converts all strings to a method appply iterator. so that we can apply the string functions"
   ]
  },
  {
   "cell_type": "code",
   "execution_count": 107,
   "metadata": {},
   "outputs": [
    {
     "data": {
      "text/plain": [
       "0     3\n",
       "1     2\n",
       "2    10\n",
       "3     9\n",
       "4    12\n",
       "5     8\n",
       "6     8\n",
       "7     5\n",
       "dtype: int64"
      ]
     },
     "execution_count": 107,
     "metadata": {},
     "output_type": "execute_result"
    }
   ],
   "source": [
    "countries.str.len()"
   ]
  },
  {
   "cell_type": "markdown",
   "metadata": {},
   "source": [
    "- The len() function will return the length of each string and the len() function will be applied to each and every string in the data"
   ]
  },
  {
   "cell_type": "code",
   "execution_count": 109,
   "metadata": {},
   "outputs": [
    {
     "data": {
      "text/plain": [
       "0             USA\n",
       "1              UK\n",
       "2      NEW ZELAND\n",
       "3       AUSTRALIA\n",
       "4    SOUTH AFRICA\n",
       "5         IRELAND\n",
       "6        SRILANKA\n",
       "7           INDIA\n",
       "dtype: object"
      ]
     },
     "execution_count": 109,
     "metadata": {},
     "output_type": "execute_result"
    }
   ],
   "source": [
    "countries.str.upper()"
   ]
  },
  {
   "cell_type": "code",
   "execution_count": 110,
   "metadata": {},
   "outputs": [
    {
     "data": {
      "text/plain": [
       "0             USA\n",
       "1              UK\n",
       "2      New Zeland\n",
       "3       Australia\n",
       "4    South Africa\n",
       "5         Ireland\n",
       "6        Srilanka\n",
       "7           India\n",
       "dtype: object"
      ]
     },
     "execution_count": 110,
     "metadata": {},
     "output_type": "execute_result"
    }
   ],
   "source": [
    "countries.str.strip()"
   ]
  },
  {
   "cell_type": "markdown",
   "metadata": {},
   "source": [
    "# Methods and parameters\n",
    "\n",
    "\n",
    "We can also pass the parameters to our functions so that we can pass required information before processing the data."
   ]
  },
  {
   "cell_type": "code",
   "execution_count": 118,
   "metadata": {},
   "outputs": [],
   "source": [
    "years=pd.read_csv(filepath_or_buffer='https://raw.githubusercontent.com/datasets/population/master/data/population.csv', usecols=[\"Year\"], squeeze= True )"
   ]
  },
  {
   "cell_type": "markdown",
   "metadata": {},
   "source": [
    "- In the above cell, we are reading the data from a file. If you notice here,\n",
    "\n",
    "1. we passed the filepath so that it can read from specifed location.\n",
    "\n",
    "2. we also pased which columns to use and which columns to not to use while reading\n",
    "\n",
    "3. Passed Squazee=True, meaning that if in case we have only one colunmn thenn we are saying it to squazee it into an Series instead of dataframe"
   ]
  },
  {
   "cell_type": "code",
   "execution_count": 119,
   "metadata": {},
   "outputs": [
    {
     "data": {
      "text/plain": [
       "0        1960\n",
       "1        1961\n",
       "2        1962\n",
       "3        1963\n",
       "4        1964\n",
       "5        1965\n",
       "6        1966\n",
       "7        1967\n",
       "8        1968\n",
       "9        1969\n",
       "10       1970\n",
       "11       1971\n",
       "12       1972\n",
       "13       1973\n",
       "14       1974\n",
       "15       1975\n",
       "16       1976\n",
       "17       1977\n",
       "18       1978\n",
       "19       1979\n",
       "20       1980\n",
       "21       1981\n",
       "22       1982\n",
       "23       1983\n",
       "24       1984\n",
       "25       1985\n",
       "26       1986\n",
       "27       1987\n",
       "28       1988\n",
       "29       1989\n",
       "         ... \n",
       "14855    1987\n",
       "14856    1988\n",
       "14857    1989\n",
       "14858    1990\n",
       "14859    1991\n",
       "14860    1992\n",
       "14861    1993\n",
       "14862    1994\n",
       "14863    1995\n",
       "14864    1996\n",
       "14865    1997\n",
       "14866    1998\n",
       "14867    1999\n",
       "14868    2000\n",
       "14869    2001\n",
       "14870    2002\n",
       "14871    2003\n",
       "14872    2004\n",
       "14873    2005\n",
       "14874    2006\n",
       "14875    2007\n",
       "14876    2008\n",
       "14877    2009\n",
       "14878    2010\n",
       "14879    2011\n",
       "14880    2012\n",
       "14881    2013\n",
       "14882    2014\n",
       "14883    2015\n",
       "14884    2016\n",
       "Name: Year, Length: 14885, dtype: int64"
      ]
     },
     "execution_count": 119,
     "metadata": {},
     "output_type": "execute_result"
    }
   ],
   "source": [
    "years"
   ]
  },
  {
   "cell_type": "code",
   "execution_count": 121,
   "metadata": {},
   "outputs": [
    {
     "data": {
      "text/plain": [
       "RangeIndex(start=0, stop=14885, step=1)"
      ]
     },
     "execution_count": 121,
     "metadata": {},
     "output_type": "execute_result"
    }
   ],
   "source": [
    "years.index"
   ]
  },
  {
   "cell_type": "code",
   "execution_count": 122,
   "metadata": {},
   "outputs": [
    {
     "data": {
      "text/plain": [
       "False"
      ]
     },
     "execution_count": 122,
     "metadata": {},
     "output_type": "execute_result"
    }
   ],
   "source": [
    "years.is_unique"
   ]
  },
  {
   "cell_type": "code",
   "execution_count": 123,
   "metadata": {},
   "outputs": [
    {
     "data": {
      "text/plain": [
       "dtype('int64')"
      ]
     },
     "execution_count": 123,
     "metadata": {},
     "output_type": "execute_result"
    }
   ],
   "source": [
    "years.dtype"
   ]
  },
  {
   "cell_type": "markdown",
   "metadata": {},
   "source": [
    "# Get the first n records from data \n",
    "- head() function returns top n records. By default it will give 5 rows. <br>\n",
    "\n",
    "- It will take a parameter and return that many recods from data."
   ]
  },
  {
   "cell_type": "code",
   "execution_count": 127,
   "metadata": {},
   "outputs": [
    {
     "data": {
      "text/plain": [
       "0    1960\n",
       "1    1961\n",
       "2    1962\n",
       "3    1963\n",
       "4    1964\n",
       "Name: Year, dtype: int64"
      ]
     },
     "execution_count": 127,
     "metadata": {},
     "output_type": "execute_result"
    }
   ],
   "source": [
    "years.head()"
   ]
  },
  {
   "cell_type": "code",
   "execution_count": 128,
   "metadata": {},
   "outputs": [
    {
     "data": {
      "text/plain": [
       "0    1960\n",
       "1    1961\n",
       "2    1962\n",
       "3    1963\n",
       "4    1964\n",
       "5    1965\n",
       "6    1966\n",
       "7    1967\n",
       "8    1968\n",
       "9    1969\n",
       "Name: Year, dtype: int64"
      ]
     },
     "execution_count": 128,
     "metadata": {},
     "output_type": "execute_result"
    }
   ],
   "source": [
    "years.head(10)"
   ]
  },
  {
   "cell_type": "markdown",
   "metadata": {},
   "source": [
    "# Get the last n records from data\n",
    "\n",
    "- tail() function returns last n records. By default it will give 5 rows. <br>\n",
    "\n",
    "- It will take a parameter and return that many recods from last in the data."
   ]
  },
  {
   "cell_type": "code",
   "execution_count": 129,
   "metadata": {},
   "outputs": [
    {
     "data": {
      "text/plain": [
       "14880    2012\n",
       "14881    2013\n",
       "14882    2014\n",
       "14883    2015\n",
       "14884    2016\n",
       "Name: Year, dtype: int64"
      ]
     },
     "execution_count": 129,
     "metadata": {},
     "output_type": "execute_result"
    }
   ],
   "source": [
    "years.tail()"
   ]
  },
  {
   "cell_type": "code",
   "execution_count": 130,
   "metadata": {},
   "outputs": [
    {
     "data": {
      "text/plain": [
       "14883    2015\n",
       "14884    2016\n",
       "Name: Year, dtype: int64"
      ]
     },
     "execution_count": 130,
     "metadata": {},
     "output_type": "execute_result"
    }
   ],
   "source": [
    "years.tail(2)"
   ]
  },
  {
   "cell_type": "markdown",
   "metadata": {},
   "source": [
    "# *Sorting the data*"
   ]
  },
  {
   "cell_type": "code",
   "execution_count": 141,
   "metadata": {},
   "outputs": [
    {
     "data": {
      "text/plain": [
       "0             USA\n",
       "1              UK\n",
       "2      New Zeland\n",
       "3       Australia\n",
       "4    South Africa\n",
       "5         Ireland\n",
       "6        Srilanka\n",
       "7           India\n",
       "dtype: object"
      ]
     },
     "execution_count": 141,
     "metadata": {},
     "output_type": "execute_result"
    }
   ],
   "source": [
    "countries"
   ]
  },
  {
   "cell_type": "code",
   "execution_count": 142,
   "metadata": {},
   "outputs": [
    {
     "name": "stdout",
     "output_type": "stream",
     "text": [
      "3       Australia\n",
      "7           India\n",
      "5         Ireland\n",
      "2      New Zeland\n",
      "4    South Africa\n",
      "6        Srilanka\n",
      "1              UK\n",
      "0             USA\n",
      "dtype: object\n"
     ]
    }
   ],
   "source": [
    "countries.sort_values(inplace=True)\n",
    "\n",
    "print(countries)\n",
    "\n",
    "# countries.sort_values(\n",
    "#     ascending=True,\n",
    "#     inplace=False,\n",
    "#     kind='quicksort',\n",
    "#     na_position='last',\n",
    "# )\n",
    "\n"
   ]
  },
  {
   "cell_type": "markdown",
   "metadata": {},
   "source": [
    "- inplace = True indicates that store the sorted object in the same variabe \n"
   ]
  },
  {
   "cell_type": "code",
   "execution_count": 143,
   "metadata": {},
   "outputs": [
    {
     "data": {
      "text/plain": [
       "0             USA\n",
       "1              UK\n",
       "6        Srilanka\n",
       "4    South Africa\n",
       "2      New Zeland\n",
       "5         Ireland\n",
       "7           India\n",
       "3       Australia\n",
       "dtype: object"
      ]
     },
     "execution_count": 143,
     "metadata": {},
     "output_type": "execute_result"
    }
   ],
   "source": [
    "countries.sort_values(ascending=False)"
   ]
  },
  {
   "cell_type": "markdown",
   "metadata": {},
   "source": [
    "- By default sorting is in ascending order, to overcome that we have explicilty specify the ascending-=False"
   ]
  },
  {
   "cell_type": "markdown",
   "metadata": {},
   "source": [
    "# *Sorting the data with index*\n",
    "\n",
    "- We can also store the data using index as well. after sorting with data what if we want to get back to our own data then we can use the sort_index() to get back to previous object"
   ]
  },
  {
   "cell_type": "code",
   "execution_count": 145,
   "metadata": {},
   "outputs": [
    {
     "name": "stdout",
     "output_type": "stream",
     "text": [
      "0             USA\n",
      "1              UK\n",
      "2      New Zeland\n",
      "3       Australia\n",
      "4    South Africa\n",
      "5         Ireland\n",
      "6        Srilanka\n",
      "7           India\n",
      "dtype: object\n"
     ]
    }
   ],
   "source": [
    "countries.sort_index(inplace=True)\n",
    "print(countries)"
   ]
  },
  {
   "cell_type": "markdown",
   "metadata": {},
   "source": [
    "- Now, we have original series. so here you can observe when we sorting data, the respective index values are also moving like satelite data."
   ]
  },
  {
   "cell_type": "code",
   "execution_count": 146,
   "metadata": {},
   "outputs": [
    {
     "data": {
      "text/plain": [
       "7           India\n",
       "6        Srilanka\n",
       "5         Ireland\n",
       "4    South Africa\n",
       "3       Australia\n",
       "2      New Zeland\n",
       "1              UK\n",
       "0             USA\n",
       "dtype: object"
      ]
     },
     "execution_count": 146,
     "metadata": {},
     "output_type": "execute_result"
    }
   ],
   "source": [
    "countries.sort_index(ascending=False)"
   ]
  },
  {
   "cell_type": "markdown",
   "metadata": {},
   "source": [
    "# *Acessing the values inside the series*"
   ]
  },
  {
   "cell_type": "code",
   "execution_count": 147,
   "metadata": {},
   "outputs": [
    {
     "data": {
      "text/plain": [
       "'USA'"
      ]
     },
     "execution_count": 147,
     "metadata": {},
     "output_type": "execute_result"
    }
   ],
   "source": [
    "countries[0]"
   ]
  },
  {
   "cell_type": "code",
   "execution_count": 148,
   "metadata": {},
   "outputs": [
    {
     "data": {
      "text/plain": [
       "0    USA\n",
       "1     UK\n",
       "dtype: object"
      ]
     },
     "execution_count": 148,
     "metadata": {},
     "output_type": "execute_result"
    }
   ],
   "source": [
    "countries[0:2]"
   ]
  },
  {
   "cell_type": "code",
   "execution_count": 150,
   "metadata": {},
   "outputs": [
    {
     "data": {
      "text/plain": [
       "USA             0.135137\n",
       "UK              0.739923\n",
       "New Zeland      0.195243\n",
       "Australia       0.463939\n",
       "South Africa    0.604858\n",
       " Ireland        0.892661\n",
       "Srilanka        0.545492\n",
       "India           0.358394\n",
       "dtype: float64"
      ]
     },
     "execution_count": 150,
     "metadata": {},
     "output_type": "execute_result"
    }
   ],
   "source": [
    "float_data"
   ]
  },
  {
   "cell_type": "code",
   "execution_count": 152,
   "metadata": {},
   "outputs": [
    {
     "data": {
      "text/plain": [
       "USA    0.135137\n",
       "UK     0.739923\n",
       "dtype: float64"
      ]
     },
     "execution_count": 152,
     "metadata": {},
     "output_type": "execute_result"
    }
   ],
   "source": [
    "float_data[0:2]"
   ]
  },
  {
   "cell_type": "code",
   "execution_count": 153,
   "metadata": {},
   "outputs": [
    {
     "data": {
      "text/plain": [
       "USA             0.135137\n",
       "UK              0.739923\n",
       "New Zeland      0.195243\n",
       "Australia       0.463939\n",
       "South Africa    0.604858\n",
       " Ireland        0.892661\n",
       "Srilanka        0.545492\n",
       "dtype: float64"
      ]
     },
     "execution_count": 153,
     "metadata": {},
     "output_type": "execute_result"
    }
   ],
   "source": [
    "float_data[\"USA\":\"Srilanka\"]"
   ]
  },
  {
   "cell_type": "code",
   "execution_count": 154,
   "metadata": {},
   "outputs": [
    {
     "data": {
      "text/plain": [
       "array([0.13513674, 0.73992296, 0.19524323, 0.46393851, 0.60485807,\n",
       "       0.89266077, 0.54549185])"
      ]
     },
     "execution_count": 154,
     "metadata": {},
     "output_type": "execute_result"
    }
   ],
   "source": [
    "float_data[\"USA\":\"Srilanka\"].values"
   ]
  },
  {
   "cell_type": "code",
   "execution_count": 157,
   "metadata": {},
   "outputs": [
    {
     "data": {
      "text/plain": [
       "array([0.13513674, 0.73992296, 0.19524323, 0.46393851, 0.60485807,\n",
       "       0.89266077])"
      ]
     },
     "execution_count": 157,
     "metadata": {},
     "output_type": "execute_result"
    }
   ],
   "source": [
    "float_data[:-2].values"
   ]
  },
  {
   "cell_type": "code",
   "execution_count": 161,
   "metadata": {},
   "outputs": [
    {
     "data": {
      "text/plain": [
       "USA    0.135137\n",
       "UK     0.739923\n",
       "dsc         NaN\n",
       "dtype: float64"
      ]
     },
     "execution_count": 161,
     "metadata": {},
     "output_type": "execute_result"
    }
   ],
   "source": [
    "float_data[[\"USA\",\"UK\",\"dsc\"]]"
   ]
  },
  {
   "cell_type": "markdown",
   "metadata": {},
   "source": [
    "- Note: Even if the index not existed it will give an NaN but not an error.\n",
    "\n",
    "- It will give an error when only one index using and if its not existed in data."
   ]
  },
  {
   "cell_type": "code",
   "execution_count": 163,
   "metadata": {},
   "outputs": [
    {
     "ename": "KeyError",
     "evalue": "'AS'",
     "output_type": "error",
     "traceback": [
      "\u001b[0;31m---------------------------------------------------------------------------\u001b[0m",
      "\u001b[0;31mTypeError\u001b[0m                                 Traceback (most recent call last)",
      "\u001b[0;32m~/anaconda3/lib/python3.7/site-packages/pandas/core/indexes/base.py\u001b[0m in \u001b[0;36mget_value\u001b[0;34m(self, series, key)\u001b[0m\n\u001b[1;32m   3123\u001b[0m             \u001b[0;32mtry\u001b[0m\u001b[0;34m:\u001b[0m\u001b[0;34m\u001b[0m\u001b[0;34m\u001b[0m\u001b[0m\n\u001b[0;32m-> 3124\u001b[0;31m                 \u001b[0;32mreturn\u001b[0m \u001b[0mlibindex\u001b[0m\u001b[0;34m.\u001b[0m\u001b[0mget_value_box\u001b[0m\u001b[0;34m(\u001b[0m\u001b[0ms\u001b[0m\u001b[0;34m,\u001b[0m \u001b[0mkey\u001b[0m\u001b[0;34m)\u001b[0m\u001b[0;34m\u001b[0m\u001b[0;34m\u001b[0m\u001b[0m\n\u001b[0m\u001b[1;32m   3125\u001b[0m             \u001b[0;32mexcept\u001b[0m \u001b[0mIndexError\u001b[0m\u001b[0;34m:\u001b[0m\u001b[0;34m\u001b[0m\u001b[0;34m\u001b[0m\u001b[0m\n",
      "\u001b[0;32mpandas/_libs/index.pyx\u001b[0m in \u001b[0;36mpandas._libs.index.get_value_box\u001b[0;34m()\u001b[0m\n",
      "\u001b[0;32mpandas/_libs/index.pyx\u001b[0m in \u001b[0;36mpandas._libs.index.get_value_box\u001b[0;34m()\u001b[0m\n",
      "\u001b[0;31mTypeError\u001b[0m: 'str' object cannot be interpreted as an integer",
      "\nDuring handling of the above exception, another exception occurred:\n",
      "\u001b[0;31mKeyError\u001b[0m                                  Traceback (most recent call last)",
      "\u001b[0;32m<ipython-input-163-2fac0535f9ca>\u001b[0m in \u001b[0;36m<module>\u001b[0;34m\u001b[0m\n\u001b[0;32m----> 1\u001b[0;31m \u001b[0mfloat_data\u001b[0m\u001b[0;34m[\u001b[0m\u001b[0;34m'AS'\u001b[0m\u001b[0;34m]\u001b[0m\u001b[0;34m\u001b[0m\u001b[0;34m\u001b[0m\u001b[0m\n\u001b[0m",
      "\u001b[0;32m~/anaconda3/lib/python3.7/site-packages/pandas/core/series.py\u001b[0m in \u001b[0;36m__getitem__\u001b[0;34m(self, key)\u001b[0m\n\u001b[1;32m    765\u001b[0m         \u001b[0mkey\u001b[0m \u001b[0;34m=\u001b[0m \u001b[0mcom\u001b[0m\u001b[0;34m.\u001b[0m\u001b[0m_apply_if_callable\u001b[0m\u001b[0;34m(\u001b[0m\u001b[0mkey\u001b[0m\u001b[0;34m,\u001b[0m \u001b[0mself\u001b[0m\u001b[0;34m)\u001b[0m\u001b[0;34m\u001b[0m\u001b[0;34m\u001b[0m\u001b[0m\n\u001b[1;32m    766\u001b[0m         \u001b[0;32mtry\u001b[0m\u001b[0;34m:\u001b[0m\u001b[0;34m\u001b[0m\u001b[0;34m\u001b[0m\u001b[0m\n\u001b[0;32m--> 767\u001b[0;31m             \u001b[0mresult\u001b[0m \u001b[0;34m=\u001b[0m \u001b[0mself\u001b[0m\u001b[0;34m.\u001b[0m\u001b[0mindex\u001b[0m\u001b[0;34m.\u001b[0m\u001b[0mget_value\u001b[0m\u001b[0;34m(\u001b[0m\u001b[0mself\u001b[0m\u001b[0;34m,\u001b[0m \u001b[0mkey\u001b[0m\u001b[0;34m)\u001b[0m\u001b[0;34m\u001b[0m\u001b[0;34m\u001b[0m\u001b[0m\n\u001b[0m\u001b[1;32m    768\u001b[0m \u001b[0;34m\u001b[0m\u001b[0m\n\u001b[1;32m    769\u001b[0m             \u001b[0;32mif\u001b[0m \u001b[0;32mnot\u001b[0m \u001b[0mis_scalar\u001b[0m\u001b[0;34m(\u001b[0m\u001b[0mresult\u001b[0m\u001b[0;34m)\u001b[0m\u001b[0;34m:\u001b[0m\u001b[0;34m\u001b[0m\u001b[0;34m\u001b[0m\u001b[0m\n",
      "\u001b[0;32m~/anaconda3/lib/python3.7/site-packages/pandas/core/indexes/base.py\u001b[0m in \u001b[0;36mget_value\u001b[0;34m(self, series, key)\u001b[0m\n\u001b[1;32m   3130\u001b[0m                     \u001b[0;32mraise\u001b[0m \u001b[0mInvalidIndexError\u001b[0m\u001b[0;34m(\u001b[0m\u001b[0mkey\u001b[0m\u001b[0;34m)\u001b[0m\u001b[0;34m\u001b[0m\u001b[0;34m\u001b[0m\u001b[0m\n\u001b[1;32m   3131\u001b[0m                 \u001b[0;32melse\u001b[0m\u001b[0;34m:\u001b[0m\u001b[0;34m\u001b[0m\u001b[0;34m\u001b[0m\u001b[0m\n\u001b[0;32m-> 3132\u001b[0;31m                     \u001b[0;32mraise\u001b[0m \u001b[0me1\u001b[0m\u001b[0;34m\u001b[0m\u001b[0;34m\u001b[0m\u001b[0m\n\u001b[0m\u001b[1;32m   3133\u001b[0m             \u001b[0;32mexcept\u001b[0m \u001b[0mException\u001b[0m\u001b[0;34m:\u001b[0m  \u001b[0;31m# pragma: no cover\u001b[0m\u001b[0;34m\u001b[0m\u001b[0;34m\u001b[0m\u001b[0m\n\u001b[1;32m   3134\u001b[0m                 \u001b[0;32mraise\u001b[0m \u001b[0me1\u001b[0m\u001b[0;34m\u001b[0m\u001b[0;34m\u001b[0m\u001b[0m\n",
      "\u001b[0;32m~/anaconda3/lib/python3.7/site-packages/pandas/core/indexes/base.py\u001b[0m in \u001b[0;36mget_value\u001b[0;34m(self, series, key)\u001b[0m\n\u001b[1;32m   3116\u001b[0m         \u001b[0;32mtry\u001b[0m\u001b[0;34m:\u001b[0m\u001b[0;34m\u001b[0m\u001b[0;34m\u001b[0m\u001b[0m\n\u001b[1;32m   3117\u001b[0m             return self._engine.get_value(s, k,\n\u001b[0;32m-> 3118\u001b[0;31m                                           tz=getattr(series.dtype, 'tz', None))\n\u001b[0m\u001b[1;32m   3119\u001b[0m         \u001b[0;32mexcept\u001b[0m \u001b[0mKeyError\u001b[0m \u001b[0;32mas\u001b[0m \u001b[0me1\u001b[0m\u001b[0;34m:\u001b[0m\u001b[0;34m\u001b[0m\u001b[0;34m\u001b[0m\u001b[0m\n\u001b[1;32m   3120\u001b[0m             \u001b[0;32mif\u001b[0m \u001b[0mlen\u001b[0m\u001b[0;34m(\u001b[0m\u001b[0mself\u001b[0m\u001b[0;34m)\u001b[0m \u001b[0;34m>\u001b[0m \u001b[0;36m0\u001b[0m \u001b[0;32mand\u001b[0m \u001b[0mself\u001b[0m\u001b[0;34m.\u001b[0m\u001b[0minferred_type\u001b[0m \u001b[0;32min\u001b[0m \u001b[0;34m[\u001b[0m\u001b[0;34m'integer'\u001b[0m\u001b[0;34m,\u001b[0m \u001b[0;34m'boolean'\u001b[0m\u001b[0;34m]\u001b[0m\u001b[0;34m:\u001b[0m\u001b[0;34m\u001b[0m\u001b[0;34m\u001b[0m\u001b[0m\n",
      "\u001b[0;32mpandas/_libs/index.pyx\u001b[0m in \u001b[0;36mpandas._libs.index.IndexEngine.get_value\u001b[0;34m()\u001b[0m\n",
      "\u001b[0;32mpandas/_libs/index.pyx\u001b[0m in \u001b[0;36mpandas._libs.index.IndexEngine.get_value\u001b[0;34m()\u001b[0m\n",
      "\u001b[0;32mpandas/_libs/index.pyx\u001b[0m in \u001b[0;36mpandas._libs.index.IndexEngine.get_loc\u001b[0;34m()\u001b[0m\n",
      "\u001b[0;32mpandas/_libs/hashtable_class_helper.pxi\u001b[0m in \u001b[0;36mpandas._libs.hashtable.PyObjectHashTable.get_item\u001b[0;34m()\u001b[0m\n",
      "\u001b[0;32mpandas/_libs/hashtable_class_helper.pxi\u001b[0m in \u001b[0;36mpandas._libs.hashtable.PyObjectHashTable.get_item\u001b[0;34m()\u001b[0m\n",
      "\u001b[0;31mKeyError\u001b[0m: 'AS'"
     ]
    }
   ],
   "source": [
    "float_data['AS']"
   ]
  },
  {
   "cell_type": "code",
   "execution_count": 165,
   "metadata": {},
   "outputs": [
    {
     "data": {
      "text/plain": [
       "'Missing'"
      ]
     },
     "execution_count": 165,
     "metadata": {},
     "output_type": "execute_result"
    }
   ],
   "source": [
    "float_data.get(key=\"AS\",default=\"Missing\")"
   ]
  },
  {
   "cell_type": "markdown",
   "metadata": {},
   "source": [
    "- get() method is better that raw acessing because it provides a way to handle in case if the key is not exist in the data"
   ]
  },
  {
   "cell_type": "code",
   "execution_count": 168,
   "metadata": {},
   "outputs": [
    {
     "name": "stdout",
     "output_type": "stream",
     "text": [
      "USA    0.135137\n",
      "UK     0.739923\n",
      "AS          NaN\n",
      "dtype: float64\n"
     ]
    }
   ],
   "source": [
    "sample=float_data.get(key=[\"USA\",\"UK\",\"AS\"],default=\"Missing\")\n",
    "print(sample)"
   ]
  },
  {
   "cell_type": "markdown",
   "metadata": {},
   "source": [
    "#  Return number of non-NA/null observations in the Series"
   ]
  },
  {
   "cell_type": "code",
   "execution_count": 175,
   "metadata": {},
   "outputs": [
    {
     "data": {
      "text/plain": [
       "2"
      ]
     },
     "execution_count": 175,
     "metadata": {},
     "output_type": "execute_result"
    }
   ],
   "source": [
    "sample.count()"
   ]
  },
  {
   "cell_type": "markdown",
   "metadata": {},
   "source": [
    "#  Return number of observations in the Series"
   ]
  },
  {
   "cell_type": "code",
   "execution_count": 176,
   "metadata": {},
   "outputs": [
    {
     "data": {
      "text/plain": [
       "3"
      ]
     },
     "execution_count": 176,
     "metadata": {},
     "output_type": "execute_result"
    }
   ],
   "source": [
    "sample.size"
   ]
  },
  {
   "cell_type": "markdown",
   "metadata": {},
   "source": [
    "# Get the 5-number summary "
   ]
  },
  {
   "cell_type": "code",
   "execution_count": 179,
   "metadata": {},
   "outputs": [
    {
     "data": {
      "text/plain": [
       "count    8.000000\n",
       "mean     0.491956\n",
       "std      0.259573\n",
       "min      0.135137\n",
       "25%      0.317606\n",
       "50%      0.504715\n",
       "75%      0.638624\n",
       "max      0.892661\n",
       "dtype: float64"
      ]
     },
     "execution_count": 179,
     "metadata": {},
     "output_type": "execute_result"
    }
   ],
   "source": [
    "float_data.describe()"
   ]
  },
  {
   "cell_type": "markdown",
   "metadata": {},
   "source": [
    "# Return the highest value index in data"
   ]
  },
  {
   "cell_type": "code",
   "execution_count": 188,
   "metadata": {},
   "outputs": [
    {
     "data": {
      "text/plain": [
       "' Ireland'"
      ]
     },
     "execution_count": 188,
     "metadata": {},
     "output_type": "execute_result"
    }
   ],
   "source": [
    "float_data.idxmax()"
   ]
  },
  {
   "cell_type": "code",
   "execution_count": 187,
   "metadata": {},
   "outputs": [
    {
     "data": {
      "text/plain": [
       "0.8926607670763301"
      ]
     },
     "execution_count": 187,
     "metadata": {},
     "output_type": "execute_result"
    }
   ],
   "source": [
    "#return maximum values\n",
    "float_data[float_data.idxmax()]"
   ]
  },
  {
   "cell_type": "markdown",
   "metadata": {},
   "source": [
    "# Return the highest value index in data"
   ]
  },
  {
   "cell_type": "code",
   "execution_count": 186,
   "metadata": {},
   "outputs": [
    {
     "data": {
      "text/plain": [
       "'USA'"
      ]
     },
     "execution_count": 186,
     "metadata": {},
     "output_type": "execute_result"
    }
   ],
   "source": [
    "float_data.idxmin()"
   ]
  },
  {
   "cell_type": "code",
   "execution_count": 189,
   "metadata": {},
   "outputs": [
    {
     "data": {
      "text/plain": [
       "0.13513673665394288"
      ]
     },
     "execution_count": 189,
     "metadata": {},
     "output_type": "execute_result"
    }
   ],
   "source": [
    "#return minimum values\n",
    "float_data[float_data.idxmin()]"
   ]
  },
  {
   "cell_type": "markdown",
   "metadata": {},
   "source": [
    "# groupby values"
   ]
  },
  {
   "cell_type": "code",
   "execution_count": 193,
   "metadata": {},
   "outputs": [
    {
     "name": "stdout",
     "output_type": "stream",
     "text": [
      "2011    263\n",
      "2006    263\n",
      "2005    263\n",
      "2007    263\n",
      "2003    263\n",
      "2010    263\n",
      "2002    263\n",
      "1998    263\n",
      "2009    263\n",
      "2001    263\n",
      "2008    263\n",
      "2000    263\n",
      "1999    263\n",
      "2004    263\n",
      "2012    262\n",
      "2016    262\n",
      "1995    262\n",
      "1996    262\n",
      "2015    262\n",
      "2014    262\n",
      "1997    262\n",
      "1990    262\n",
      "1991    262\n",
      "2013    262\n",
      "1994    261\n",
      "1992    261\n",
      "1993    261\n",
      "1973    260\n",
      "1977    260\n",
      "1967    260\n",
      "1985    260\n",
      "1975    260\n",
      "1969    260\n",
      "1961    260\n",
      "1970    260\n",
      "1983    260\n",
      "1984    260\n",
      "1976    260\n",
      "1968    260\n",
      "1962    260\n",
      "1986    260\n",
      "1978    260\n",
      "1965    260\n",
      "1982    260\n",
      "1963    260\n",
      "1971    260\n",
      "1979    260\n",
      "1987    260\n",
      "1974    260\n",
      "1966    260\n",
      "1964    260\n",
      "1972    260\n",
      "1980    260\n",
      "1988    260\n",
      "1989    260\n",
      "1981    260\n",
      "1960    260\n",
      "Name: Year, dtype: int64\n"
     ]
    }
   ],
   "source": [
    "years_group=years.value_counts()\n",
    "print(years_group)"
   ]
  },
  {
   "cell_type": "code",
   "execution_count": 197,
   "metadata": {},
   "outputs": [
    {
     "data": {
      "text/plain": [
       "pandas.core.series.Series"
      ]
     },
     "execution_count": 197,
     "metadata": {},
     "output_type": "execute_result"
    }
   ],
   "source": [
    "type(years_group)"
   ]
  },
  {
   "cell_type": "code",
   "execution_count": 202,
   "metadata": {},
   "outputs": [
    {
     "data": {
      "text/plain": [
       "1960    260\n",
       "Name: Year, dtype: int64"
      ]
     },
     "execution_count": 202,
     "metadata": {},
     "output_type": "execute_result"
    }
   ],
   "source": [
    "years_group[-1:]"
   ]
  },
  {
   "cell_type": "markdown",
   "metadata": {},
   "source": [
    "- value_counts() function returns a pandas series with values as key and occrence as value"
   ]
  },
  {
   "cell_type": "code",
   "execution_count": 203,
   "metadata": {},
   "outputs": [
    {
     "data": {
      "text/plain": [
       "14885"
      ]
     },
     "execution_count": 203,
     "metadata": {},
     "output_type": "execute_result"
    }
   ],
   "source": [
    "years_group.sum()"
   ]
  },
  {
   "cell_type": "markdown",
   "metadata": {},
   "source": [
    "# Apply function \n",
    "\n",
    "- This function will apply to each instance in the data."
   ]
  },
  {
   "cell_type": "code",
   "execution_count": 204,
   "metadata": {},
   "outputs": [
    {
     "data": {
      "text/plain": [
       "0        before 1970\n",
       "1        before 1970\n",
       "2        before 1970\n",
       "3        before 1970\n",
       "4        before 1970\n",
       "5        before 1970\n",
       "6        before 1970\n",
       "7        before 1970\n",
       "8        before 1970\n",
       "9        before 1970\n",
       "10        after 1970\n",
       "11        after 1970\n",
       "12        after 1970\n",
       "13        after 1970\n",
       "14        after 1970\n",
       "15        after 1970\n",
       "16        after 1970\n",
       "17        after 1970\n",
       "18        after 1970\n",
       "19        after 1970\n",
       "20        after 1970\n",
       "21        after 1970\n",
       "22        after 1970\n",
       "23        after 1970\n",
       "24        after 1970\n",
       "25        after 1970\n",
       "26        after 1970\n",
       "27        after 1970\n",
       "28        after 1970\n",
       "29        after 1970\n",
       "            ...     \n",
       "14855     after 1970\n",
       "14856     after 1970\n",
       "14857     after 1970\n",
       "14858     after 1970\n",
       "14859     after 1970\n",
       "14860     after 1970\n",
       "14861     after 1970\n",
       "14862     after 1970\n",
       "14863     after 1970\n",
       "14864     after 1970\n",
       "14865     after 1970\n",
       "14866     after 1970\n",
       "14867     after 1970\n",
       "14868     after 1970\n",
       "14869     after 1970\n",
       "14870     after 1970\n",
       "14871     after 1970\n",
       "14872     after 1970\n",
       "14873     after 1970\n",
       "14874     after 1970\n",
       "14875     after 1970\n",
       "14876     after 1970\n",
       "14877     after 1970\n",
       "14878     after 1970\n",
       "14879     after 1970\n",
       "14880     after 1970\n",
       "14881     after 1970\n",
       "14882     after 1970\n",
       "14883     after 1970\n",
       "14884     after 1970\n",
       "Name: Year, Length: 14885, dtype: object"
      ]
     },
     "execution_count": 204,
     "metadata": {},
     "output_type": "execute_result"
    }
   ],
   "source": [
    "years.apply(lambda x: \"before 1970\" if x<1970 else \"after 1970\")"
   ]
  },
  {
   "cell_type": "markdown",
   "metadata": {},
   "source": [
    "# map function\n",
    "\n",
    "- map() will apply on each instance and apply function to each instance."
   ]
  }
 ],
 "metadata": {
  "kernelspec": {
   "display_name": "Python 3",
   "language": "python",
   "name": "python3"
  },
  "language_info": {
   "codemirror_mode": {
    "name": "ipython",
    "version": 3
   },
   "file_extension": ".py",
   "mimetype": "text/x-python",
   "name": "python",
   "nbconvert_exporter": "python",
   "pygments_lexer": "ipython3",
   "version": "3.7.1"
  }
 },
 "nbformat": 4,
 "nbformat_minor": 2
}
